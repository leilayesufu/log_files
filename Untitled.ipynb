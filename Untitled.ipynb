{
 "cells": [
  {
   "cell_type": "code",
   "execution_count": 1,
   "id": "00465b39-3531-4018-8f32-618d99993cdc",
   "metadata": {},
   "outputs": [
    {
     "name": "stdout",
     "output_type": "stream",
     "text": [
      "Requirement already satisfied: pandas in /home/leila/miniconda3/lib/python3.11/site-packages (2.1.4)\n",
      "Collecting rdkit\n",
      "  Downloading rdkit-2023.9.4-cp311-cp311-manylinux_2_17_x86_64.manylinux2014_x86_64.whl (34.4 MB)\n",
      "\u001b[2K     \u001b[90m━━━━━━━━━━━━━━━━━━━━━━━━━━━━━━━━━━━━━━━━\u001b[0m \u001b[32m34.4/34.4 MB\u001b[0m \u001b[31m3.5 MB/s\u001b[0m eta \u001b[36m0:00:00\u001b[0m00:01\u001b[0m00:01\u001b[0m\n",
      "\u001b[?25hRequirement already satisfied: numpy<2,>=1.23.2 in /home/leila/miniconda3/lib/python3.11/site-packages (from pandas) (1.26.0)\n",
      "Requirement already satisfied: python-dateutil>=2.8.2 in /home/leila/miniconda3/lib/python3.11/site-packages (from pandas) (2.8.2)\n",
      "Requirement already satisfied: pytz>=2020.1 in /home/leila/miniconda3/lib/python3.11/site-packages (from pandas) (2023.3.post1)\n",
      "Requirement already satisfied: tzdata>=2022.1 in /home/leila/miniconda3/lib/python3.11/site-packages (from pandas) (2023.3)\n",
      "Requirement already satisfied: Pillow in /home/leila/miniconda3/lib/python3.11/site-packages (from rdkit) (10.0.1)\n",
      "Requirement already satisfied: six>=1.5 in /home/leila/miniconda3/lib/python3.11/site-packages (from python-dateutil>=2.8.2->pandas) (1.16.0)\n",
      "Installing collected packages: rdkit\n",
      "Successfully installed rdkit-2023.9.4\n"
     ]
    }
   ],
   "source": [
    "!pip install pandas rdkit"
   ]
  },
  {
   "cell_type": "code",
   "execution_count": 1,
   "id": "96785047-5a47-4e7f-9df2-d37350d59209",
   "metadata": {
    "scrolled": true
   },
   "outputs": [
    {
     "name": "stdout",
     "output_type": "stream",
     "text": [
      "Number of drugs in paper's dataset: 587\n",
      "Number of drugs in TDC's dataset: 475\n",
      "Number of common drugs: 67\n",
      "Percentage of common drugs relative to paper's dataset: 11.41%\n"
     ]
    },
    {
     "data": {
      "text/html": [
       "<div>\n",
       "<style scoped>\n",
       "    .dataframe tbody tr th:only-of-type {\n",
       "        vertical-align: middle;\n",
       "    }\n",
       "\n",
       "    .dataframe tbody tr th {\n",
       "        vertical-align: top;\n",
       "    }\n",
       "\n",
       "    .dataframe thead th {\n",
       "        text-align: right;\n",
       "    }\n",
       "</style>\n",
       "<table border=\"1\" class=\"dataframe\">\n",
       "  <thead>\n",
       "    <tr style=\"text-align: right;\">\n",
       "      <th></th>\n",
       "      <th>Overlapping SMILES</th>\n",
       "    </tr>\n",
       "  </thead>\n",
       "  <tbody>\n",
       "    <tr>\n",
       "      <th>0</th>\n",
       "      <td>CCN(CC)CC(=O)Nc1c(C)cccc1C</td>\n",
       "    </tr>\n",
       "    <tr>\n",
       "      <th>1</th>\n",
       "      <td>CCCCNC(=O)NS(=O)(=O)c1ccc(C)cc1</td>\n",
       "    </tr>\n",
       "    <tr>\n",
       "      <th>2</th>\n",
       "      <td>Clc1ccccc1CN1CCc2sccc2C1</td>\n",
       "    </tr>\n",
       "    <tr>\n",
       "      <th>3</th>\n",
       "      <td>OC1C(O)C(O)C(O)C(O)C1O</td>\n",
       "    </tr>\n",
       "    <tr>\n",
       "      <th>4</th>\n",
       "      <td>CCOc1ccc(NC(C)=O)cc1</td>\n",
       "    </tr>\n",
       "  </tbody>\n",
       "</table>\n",
       "</div>"
      ],
      "text/plain": [
       "                Overlapping SMILES\n",
       "0       CCN(CC)CC(=O)Nc1c(C)cccc1C\n",
       "1  CCCCNC(=O)NS(=O)(=O)c1ccc(C)cc1\n",
       "2         Clc1ccccc1CN1CCc2sccc2C1\n",
       "3           OC1C(O)C(O)C(O)C(O)C1O\n",
       "4             CCOc1ccc(NC(C)=O)cc1"
      ]
     },
     "execution_count": 1,
     "metadata": {},
     "output_type": "execute_result"
    }
   ],
   "source": [
    "import pandas as pd\n",
    "from rdkit import Chem\n",
    "from rdkit.Chem import PandasTools\n",
    "\n",
    "# Assuming you have two datasets in CSV format with a column named 'SMILES'\n",
    "dataset1 = pd.read_csv('dili_tdc_dataset.csv')\n",
    "dataset2 = pd.read_csv('dilismiles.csv')\n",
    "\n",
    "# Convert SMILES strings to RDKit molecule objects\n",
    "PandasTools.AddMoleculeColumnToFrame(dataset1, 'Drug', 'Molecule1')\n",
    "PandasTools.AddMoleculeColumnToFrame(dataset2, 'col_smiles', 'Molecule2')\n",
    "\n",
    "# Find the intersection of SMILES\n",
    "overlap_smiles = set(dataset1['Drug']).intersection(set(dataset2['col_smiles']))\n",
    "\n",
    "# Calculate the number of drugs in each dataset\n",
    "num_drugs_paper = len(set(dataset2['col_smiles']))\n",
    "num_drugs_tdc = len(set(dataset1['Drug']))\n",
    "\n",
    "# Calculate the number of common drugs and the percentage of overlap\n",
    "num_common_drugs = len(overlap_smiles)\n",
    "percent_overlap = (num_common_drugs / num_drugs_paper) * 100\n",
    "\n",
    "print(f\"Number of drugs in paper's dataset: {num_drugs_paper}\")\n",
    "print(f\"Number of drugs in TDC's dataset: {num_drugs_tdc}\")\n",
    "print(f\"Number of common drugs: {num_common_drugs}\")\n",
    "print(f\"Percentage of common drugs relative to paper's dataset: {percent_overlap:.2f}%\")\n",
    "\n",
    "# Convert the set of overlapping SMILES to a DataFrame\n",
    "overlap_df = pd.DataFrame(list(overlap_smiles), columns=['Overlapping SMILES'])\n",
    "\n",
    "overlap_df.head()\n"
   ]
  },
  {
   "cell_type": "code",
   "execution_count": null,
   "id": "bc86834a-f45a-470b-b3d2-450b88a33a20",
   "metadata": {},
   "outputs": [],
   "source": []
  }
 ],
 "metadata": {
  "kernelspec": {
   "display_name": "Python 3 (ipykernel)",
   "language": "python",
   "name": "python3"
  },
  "language_info": {
   "codemirror_mode": {
    "name": "ipython",
    "version": 3
   },
   "file_extension": ".py",
   "mimetype": "text/x-python",
   "name": "python",
   "nbconvert_exporter": "python",
   "pygments_lexer": "ipython3",
   "version": "3.8.18"
  }
 },
 "nbformat": 4,
 "nbformat_minor": 5
}
